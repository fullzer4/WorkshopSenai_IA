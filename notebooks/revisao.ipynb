{
 "cells": [
  {
   "cell_type": "markdown",
   "metadata": {},
   "source": [
    "# Workshop AI - Iniciação científica Senai\n",
    "\n",
    "### Nesse workshop vamos ter uma breve introdução de machine-learning e deep-learning (ML / DL)\n",
    "\n",
    "## Links\n",
    "\n",
    "<a href=\"https://github.com/fullzer4/WorkshopSenai_IA.git\"> - Repositório github</a>"
   ]
  },
  {
   "cell_type": "markdown",
   "metadata": {},
   "source": [
    "## Dependencias e configurações\n",
    "\n",
    "### - Verificação do python"
   ]
  },
  {
   "cell_type": "code",
   "execution_count": 1,
   "metadata": {},
   "outputs": [
    {
     "name": "stdout",
     "output_type": "stream",
     "text": [
      "Python 3.10.10\r\n"
     ]
    }
   ],
   "source": [
    "!python --version"
   ]
  },
  {
   "cell_type": "markdown",
   "metadata": {},
   "source": [
    "## Variaveis"
   ]
  },
  {
   "cell_type": "code",
   "execution_count": 16,
   "metadata": {},
   "outputs": [],
   "source": [
    "numerica1= 1 #numeric int\n",
    "numerica2= 1.0 #numeric float\n",
    "letras = \"palavra\" #string\n",
    "booleana= False #boolean"
   ]
  },
  {
   "cell_type": "code",
   "execution_count": 17,
   "metadata": {},
   "outputs": [
    {
     "data": {
      "text/plain": [
       "int"
      ]
     },
     "execution_count": 17,
     "metadata": {},
     "output_type": "execute_result"
    }
   ],
   "source": [
    "type(numerica1)"
   ]
  },
  {
   "cell_type": "code",
   "execution_count": 18,
   "metadata": {},
   "outputs": [
    {
     "name": "stdout",
     "output_type": "stream",
     "text": [
      "p\n",
      "a\n",
      "l\n",
      "a\n",
      "v\n",
      "r\n",
      "a\n"
     ]
    }
   ],
   "source": [
    "for i in letras:\n",
    "    print(i)"
   ]
  },
  {
   "cell_type": "code",
   "execution_count": 22,
   "metadata": {},
   "outputs": [
    {
     "name": "stdout",
     "output_type": "stream",
     "text": [
      "0\n",
      "1\n",
      "2\n",
      "3\n",
      "4\n",
      "5\n"
     ]
    }
   ],
   "source": [
    "for b in range(6):\n",
    "    print(b)"
   ]
  },
  {
   "cell_type": "code",
   "execution_count": 25,
   "metadata": {},
   "outputs": [
    {
     "name": "stdout",
     "output_type": "stream",
     "text": [
      "Escreva: jlcn\n",
      "jlcn\n"
     ]
    }
   ],
   "source": [
    "receba = input(\"Escreva: \")\n",
    "print(receba)"
   ]
  },
  {
   "cell_type": "code",
   "execution_count": 39,
   "metadata": {},
   "outputs": [
    {
     "name": "stdout",
     "output_type": "stream",
     "text": [
      "O que contem em letras e:  palavra\n"
     ]
    }
   ],
   "source": [
    "if(letras == \"palavra\"):\n",
    "    print(\"O que contem em letras e: \", letras)\n",
    "elif (letras == \"palavras\"):\n",
    "    print(\"O que contem em letras e: \", letras)\n",
    "else:\n",
    "    print(\"O que contem em letras e: \", letras)"
   ]
  },
  {
   "cell_type": "code",
   "execution_count": 36,
   "metadata": {},
   "outputs": [
    {
     "name": "stdout",
     "output_type": "stream",
     "text": [
      "loop igual a: 5\n"
     ]
    }
   ],
   "source": [
    "condicao = True\n",
    "loop = 0\n",
    "while condicao == True:\n",
    "    if(loop == 5):\n",
    "        print(f\"loop igual a: {loop}\")\n",
    "        break\n",
    "    loop += 1 "
   ]
  },
  {
   "cell_type": "markdown",
   "metadata": {},
   "source": [
    "# Outros tipos de variaveis"
   ]
  },
  {
   "cell_type": "code",
   "execution_count": 54,
   "metadata": {},
   "outputs": [],
   "source": [
    "lista = [\"item11\", \"item2\", 43]\n"
   ]
  },
  {
   "cell_type": "code",
   "execution_count": 52,
   "metadata": {},
   "outputs": [
    {
     "name": "stdout",
     "output_type": "stream",
     "text": [
      "itens no loop: item11\n",
      "itens no loop: item2\n",
      "itens no loop: 43\n",
      "iten direto: item2\n"
     ]
    }
   ],
   "source": [
    "for i in lista:\n",
    "    print(f\"itens no loop: {i}\")\n",
    "    \n",
    "print(f\"iten direto: {lista[1]}\")"
   ]
  }
 ],
 "metadata": {
  "kernelspec": {
   "display_name": "Python 3 (ipykernel)",
   "language": "python",
   "name": "python3"
  },
  "language_info": {
   "codemirror_mode": {
    "name": "ipython",
    "version": 3
   },
   "file_extension": ".py",
   "mimetype": "text/x-python",
   "name": "python",
   "nbconvert_exporter": "python",
   "pygments_lexer": "ipython3",
   "version": "3.10.10"
  }
 },
 "nbformat": 4,
 "nbformat_minor": 2
}
