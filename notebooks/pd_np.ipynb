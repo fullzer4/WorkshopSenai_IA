{
 "cells": [
  {
   "cell_type": "markdown",
   "id": "e4e43f2f",
   "metadata": {},
   "source": [
    "# Workshop AI - Iniciação científica Senai\n",
    "\n",
    "### Nesse workshop vamos ter uma breve introdução de machine-learning e deep-learning (ML / DL)\n",
    "\n",
    "## Links\n",
    "\n",
    "<a href=\"https://github.com/fullzer4/WorkshopSenai_IA.git\"> - Repositório github</a>"
   ]
  },
  {
   "cell_type": "markdown",
   "id": "2b992d6f",
   "metadata": {},
   "source": [
    "## Importando dependencias"
   ]
  },
  {
   "cell_type": "code",
   "execution_count": 9,
   "id": "5a2e8f78",
   "metadata": {},
   "outputs": [],
   "source": [
    "import numpy as np\n",
    "import pandas as pd"
   ]
  },
  {
   "cell_type": "markdown",
   "id": "b6fbd758",
   "metadata": {},
   "source": [
    "## Pandas"
   ]
  },
  {
   "cell_type": "code",
   "execution_count": 10,
   "id": "8eef2f91",
   "metadata": {},
   "outputs": [],
   "source": [
    "data = pd.read_csv(\"FuelConsumption.csv\")"
   ]
  },
  {
   "cell_type": "markdown",
   "id": "a67dab6b",
   "metadata": {},
   "source": [
    "### Visualizacao"
   ]
  },
  {
   "cell_type": "code",
   "execution_count": 18,
   "id": "67393086",
   "metadata": {},
   "outputs": [
    {
     "data": {
      "text/html": [
       "<div>\n",
       "<style scoped>\n",
       "    .dataframe tbody tr th:only-of-type {\n",
       "        vertical-align: middle;\n",
       "    }\n",
       "\n",
       "    .dataframe tbody tr th {\n",
       "        vertical-align: top;\n",
       "    }\n",
       "\n",
       "    .dataframe thead th {\n",
       "        text-align: right;\n",
       "    }\n",
       "</style>\n",
       "<table border=\"1\" class=\"dataframe\">\n",
       "  <thead>\n",
       "    <tr style=\"text-align: right;\">\n",
       "      <th></th>\n",
       "      <th>MODELYEAR</th>\n",
       "      <th>MAKE</th>\n",
       "      <th>MODEL</th>\n",
       "      <th>VEHICLECLASS</th>\n",
       "      <th>ENGINESIZE</th>\n",
       "      <th>CYLINDERS</th>\n",
       "      <th>TRANSMISSION</th>\n",
       "      <th>FUELTYPE</th>\n",
       "      <th>FUELCONSUMPTION_CITY</th>\n",
       "      <th>FUELCONSUMPTION_HWY</th>\n",
       "      <th>FUELCONSUMPTION_COMB</th>\n",
       "      <th>FUELCONSUMPTION_COMB_MPG</th>\n",
       "      <th>CO2EMISSIONS</th>\n",
       "    </tr>\n",
       "  </thead>\n",
       "  <tbody>\n",
       "    <tr>\n",
       "      <th>0</th>\n",
       "      <td>2014</td>\n",
       "      <td>ACURA</td>\n",
       "      <td>ILX</td>\n",
       "      <td>COMPACT</td>\n",
       "      <td>2.0</td>\n",
       "      <td>4</td>\n",
       "      <td>AS5</td>\n",
       "      <td>Z</td>\n",
       "      <td>9.9</td>\n",
       "      <td>6.7</td>\n",
       "      <td>8.5</td>\n",
       "      <td>33</td>\n",
       "      <td>196</td>\n",
       "    </tr>\n",
       "    <tr>\n",
       "      <th>1</th>\n",
       "      <td>2014</td>\n",
       "      <td>ACURA</td>\n",
       "      <td>ILX</td>\n",
       "      <td>COMPACT</td>\n",
       "      <td>2.4</td>\n",
       "      <td>4</td>\n",
       "      <td>M6</td>\n",
       "      <td>Z</td>\n",
       "      <td>11.2</td>\n",
       "      <td>7.7</td>\n",
       "      <td>9.6</td>\n",
       "      <td>29</td>\n",
       "      <td>221</td>\n",
       "    </tr>\n",
       "    <tr>\n",
       "      <th>2</th>\n",
       "      <td>2014</td>\n",
       "      <td>ACURA</td>\n",
       "      <td>ILX HYBRID</td>\n",
       "      <td>COMPACT</td>\n",
       "      <td>1.5</td>\n",
       "      <td>4</td>\n",
       "      <td>AV7</td>\n",
       "      <td>Z</td>\n",
       "      <td>6.0</td>\n",
       "      <td>5.8</td>\n",
       "      <td>5.9</td>\n",
       "      <td>48</td>\n",
       "      <td>136</td>\n",
       "    </tr>\n",
       "    <tr>\n",
       "      <th>3</th>\n",
       "      <td>2014</td>\n",
       "      <td>ACURA</td>\n",
       "      <td>MDX 4WD</td>\n",
       "      <td>SUV - SMALL</td>\n",
       "      <td>3.5</td>\n",
       "      <td>6</td>\n",
       "      <td>AS6</td>\n",
       "      <td>Z</td>\n",
       "      <td>12.7</td>\n",
       "      <td>9.1</td>\n",
       "      <td>11.1</td>\n",
       "      <td>25</td>\n",
       "      <td>255</td>\n",
       "    </tr>\n",
       "    <tr>\n",
       "      <th>4</th>\n",
       "      <td>2014</td>\n",
       "      <td>ACURA</td>\n",
       "      <td>RDX AWD</td>\n",
       "      <td>SUV - SMALL</td>\n",
       "      <td>3.5</td>\n",
       "      <td>6</td>\n",
       "      <td>AS6</td>\n",
       "      <td>Z</td>\n",
       "      <td>12.1</td>\n",
       "      <td>8.7</td>\n",
       "      <td>10.6</td>\n",
       "      <td>27</td>\n",
       "      <td>244</td>\n",
       "    </tr>\n",
       "  </tbody>\n",
       "</table>\n",
       "</div>"
      ],
      "text/plain": [
       "   MODELYEAR   MAKE       MODEL VEHICLECLASS  ENGINESIZE  CYLINDERS   \n",
       "0       2014  ACURA         ILX      COMPACT         2.0          4  \\\n",
       "1       2014  ACURA         ILX      COMPACT         2.4          4   \n",
       "2       2014  ACURA  ILX HYBRID      COMPACT         1.5          4   \n",
       "3       2014  ACURA     MDX 4WD  SUV - SMALL         3.5          6   \n",
       "4       2014  ACURA     RDX AWD  SUV - SMALL         3.5          6   \n",
       "\n",
       "  TRANSMISSION FUELTYPE  FUELCONSUMPTION_CITY  FUELCONSUMPTION_HWY   \n",
       "0          AS5        Z                   9.9                  6.7  \\\n",
       "1           M6        Z                  11.2                  7.7   \n",
       "2          AV7        Z                   6.0                  5.8   \n",
       "3          AS6        Z                  12.7                  9.1   \n",
       "4          AS6        Z                  12.1                  8.7   \n",
       "\n",
       "   FUELCONSUMPTION_COMB  FUELCONSUMPTION_COMB_MPG  CO2EMISSIONS  \n",
       "0                   8.5                        33           196  \n",
       "1                   9.6                        29           221  \n",
       "2                   5.9                        48           136  \n",
       "3                  11.1                        25           255  \n",
       "4                  10.6                        27           244  "
      ]
     },
     "execution_count": 18,
     "metadata": {},
     "output_type": "execute_result"
    }
   ],
   "source": [
    "data.head() # primeiras 5 linhas"
   ]
  },
  {
   "cell_type": "code",
   "execution_count": 19,
   "id": "c72c505f",
   "metadata": {},
   "outputs": [
    {
     "data": {
      "text/html": [
       "<div>\n",
       "<style scoped>\n",
       "    .dataframe tbody tr th:only-of-type {\n",
       "        vertical-align: middle;\n",
       "    }\n",
       "\n",
       "    .dataframe tbody tr th {\n",
       "        vertical-align: top;\n",
       "    }\n",
       "\n",
       "    .dataframe thead th {\n",
       "        text-align: right;\n",
       "    }\n",
       "</style>\n",
       "<table border=\"1\" class=\"dataframe\">\n",
       "  <thead>\n",
       "    <tr style=\"text-align: right;\">\n",
       "      <th></th>\n",
       "      <th>MODELYEAR</th>\n",
       "      <th>MAKE</th>\n",
       "      <th>MODEL</th>\n",
       "      <th>VEHICLECLASS</th>\n",
       "      <th>ENGINESIZE</th>\n",
       "      <th>CYLINDERS</th>\n",
       "      <th>TRANSMISSION</th>\n",
       "      <th>FUELTYPE</th>\n",
       "      <th>FUELCONSUMPTION_CITY</th>\n",
       "      <th>FUELCONSUMPTION_HWY</th>\n",
       "      <th>FUELCONSUMPTION_COMB</th>\n",
       "      <th>FUELCONSUMPTION_COMB_MPG</th>\n",
       "      <th>CO2EMISSIONS</th>\n",
       "    </tr>\n",
       "  </thead>\n",
       "  <tbody>\n",
       "    <tr>\n",
       "      <th>1062</th>\n",
       "      <td>2014</td>\n",
       "      <td>VOLVO</td>\n",
       "      <td>XC60 AWD</td>\n",
       "      <td>SUV - SMALL</td>\n",
       "      <td>3.0</td>\n",
       "      <td>6</td>\n",
       "      <td>AS6</td>\n",
       "      <td>X</td>\n",
       "      <td>13.4</td>\n",
       "      <td>9.8</td>\n",
       "      <td>11.8</td>\n",
       "      <td>24</td>\n",
       "      <td>271</td>\n",
       "    </tr>\n",
       "    <tr>\n",
       "      <th>1063</th>\n",
       "      <td>2014</td>\n",
       "      <td>VOLVO</td>\n",
       "      <td>XC60 AWD</td>\n",
       "      <td>SUV - SMALL</td>\n",
       "      <td>3.2</td>\n",
       "      <td>6</td>\n",
       "      <td>AS6</td>\n",
       "      <td>X</td>\n",
       "      <td>13.2</td>\n",
       "      <td>9.5</td>\n",
       "      <td>11.5</td>\n",
       "      <td>25</td>\n",
       "      <td>264</td>\n",
       "    </tr>\n",
       "    <tr>\n",
       "      <th>1064</th>\n",
       "      <td>2014</td>\n",
       "      <td>VOLVO</td>\n",
       "      <td>XC70 AWD</td>\n",
       "      <td>SUV - SMALL</td>\n",
       "      <td>3.0</td>\n",
       "      <td>6</td>\n",
       "      <td>AS6</td>\n",
       "      <td>X</td>\n",
       "      <td>13.4</td>\n",
       "      <td>9.8</td>\n",
       "      <td>11.8</td>\n",
       "      <td>24</td>\n",
       "      <td>271</td>\n",
       "    </tr>\n",
       "    <tr>\n",
       "      <th>1065</th>\n",
       "      <td>2014</td>\n",
       "      <td>VOLVO</td>\n",
       "      <td>XC70 AWD</td>\n",
       "      <td>SUV - SMALL</td>\n",
       "      <td>3.2</td>\n",
       "      <td>6</td>\n",
       "      <td>AS6</td>\n",
       "      <td>X</td>\n",
       "      <td>12.9</td>\n",
       "      <td>9.3</td>\n",
       "      <td>11.3</td>\n",
       "      <td>25</td>\n",
       "      <td>260</td>\n",
       "    </tr>\n",
       "    <tr>\n",
       "      <th>1066</th>\n",
       "      <td>2014</td>\n",
       "      <td>VOLVO</td>\n",
       "      <td>XC90 AWD</td>\n",
       "      <td>SUV - STANDARD</td>\n",
       "      <td>3.2</td>\n",
       "      <td>6</td>\n",
       "      <td>AS6</td>\n",
       "      <td>X</td>\n",
       "      <td>14.9</td>\n",
       "      <td>10.2</td>\n",
       "      <td>12.8</td>\n",
       "      <td>22</td>\n",
       "      <td>294</td>\n",
       "    </tr>\n",
       "  </tbody>\n",
       "</table>\n",
       "</div>"
      ],
      "text/plain": [
       "      MODELYEAR   MAKE     MODEL    VEHICLECLASS  ENGINESIZE  CYLINDERS   \n",
       "1062       2014  VOLVO  XC60 AWD     SUV - SMALL         3.0          6  \\\n",
       "1063       2014  VOLVO  XC60 AWD     SUV - SMALL         3.2          6   \n",
       "1064       2014  VOLVO  XC70 AWD     SUV - SMALL         3.0          6   \n",
       "1065       2014  VOLVO  XC70 AWD     SUV - SMALL         3.2          6   \n",
       "1066       2014  VOLVO  XC90 AWD  SUV - STANDARD         3.2          6   \n",
       "\n",
       "     TRANSMISSION FUELTYPE  FUELCONSUMPTION_CITY  FUELCONSUMPTION_HWY   \n",
       "1062          AS6        X                  13.4                  9.8  \\\n",
       "1063          AS6        X                  13.2                  9.5   \n",
       "1064          AS6        X                  13.4                  9.8   \n",
       "1065          AS6        X                  12.9                  9.3   \n",
       "1066          AS6        X                  14.9                 10.2   \n",
       "\n",
       "      FUELCONSUMPTION_COMB  FUELCONSUMPTION_COMB_MPG  CO2EMISSIONS  \n",
       "1062                  11.8                        24           271  \n",
       "1063                  11.5                        25           264  \n",
       "1064                  11.8                        24           271  \n",
       "1065                  11.3                        25           260  \n",
       "1066                  12.8                        22           294  "
      ]
     },
     "execution_count": 19,
     "metadata": {},
     "output_type": "execute_result"
    }
   ],
   "source": [
    "data.tail() # ultimas 5 linhas"
   ]
  },
  {
   "cell_type": "code",
   "execution_count": 21,
   "id": "1b3bd809",
   "metadata": {},
   "outputs": [
    {
     "data": {
      "text/plain": [
       "(1067, 13)"
      ]
     },
     "execution_count": 21,
     "metadata": {},
     "output_type": "execute_result"
    }
   ],
   "source": [
    "data.shape # formato do nosso dataset"
   ]
  },
  {
   "cell_type": "code",
   "execution_count": 23,
   "id": "4eecab85",
   "metadata": {},
   "outputs": [
    {
     "data": {
      "text/plain": [
       "MODELYEAR                     int64\n",
       "MAKE                         object\n",
       "MODEL                        object\n",
       "VEHICLECLASS                 object\n",
       "ENGINESIZE                  float64\n",
       "CYLINDERS                     int64\n",
       "TRANSMISSION                 object\n",
       "FUELTYPE                     object\n",
       "FUELCONSUMPTION_CITY        float64\n",
       "FUELCONSUMPTION_HWY         float64\n",
       "FUELCONSUMPTION_COMB        float64\n",
       "FUELCONSUMPTION_COMB_MPG      int64\n",
       "CO2EMISSIONS                  int64\n",
       "dtype: object"
      ]
     },
     "execution_count": 23,
     "metadata": {},
     "output_type": "execute_result"
    }
   ],
   "source": [
    "data.dtypes # tipos de dados"
   ]
  },
  {
   "cell_type": "code",
   "execution_count": 25,
   "id": "ead28574",
   "metadata": {},
   "outputs": [
    {
     "data": {
      "text/plain": [
       "0       2014\n",
       "1       2014\n",
       "2       2014\n",
       "3       2014\n",
       "4       2014\n",
       "        ... \n",
       "1062    2014\n",
       "1063    2014\n",
       "1064    2014\n",
       "1065    2014\n",
       "1066    2014\n",
       "Name: MODELYEAR, Length: 1067, dtype: int64"
      ]
     },
     "execution_count": 25,
     "metadata": {},
     "output_type": "execute_result"
    }
   ],
   "source": [
    "data[\"MODELYEAR\"] # selecionar uma coluna espesifica"
   ]
  },
  {
   "cell_type": "code",
   "execution_count": 33,
   "id": "56d209a8",
   "metadata": {},
   "outputs": [
    {
     "data": {
      "text/html": [
       "<div>\n",
       "<style scoped>\n",
       "    .dataframe tbody tr th:only-of-type {\n",
       "        vertical-align: middle;\n",
       "    }\n",
       "\n",
       "    .dataframe tbody tr th {\n",
       "        vertical-align: top;\n",
       "    }\n",
       "\n",
       "    .dataframe thead th {\n",
       "        text-align: right;\n",
       "    }\n",
       "</style>\n",
       "<table border=\"1\" class=\"dataframe\">\n",
       "  <thead>\n",
       "    <tr style=\"text-align: right;\">\n",
       "      <th></th>\n",
       "      <th>MODELYEAR</th>\n",
       "      <th>MAKE</th>\n",
       "      <th>MODEL</th>\n",
       "      <th>VEHICLECLASS</th>\n",
       "      <th>ENGINESIZE</th>\n",
       "      <th>CYLINDERS</th>\n",
       "      <th>TRANSMISSION</th>\n",
       "      <th>FUELTYPE</th>\n",
       "      <th>FUELCONSUMPTION_CITY</th>\n",
       "      <th>FUELCONSUMPTION_HWY</th>\n",
       "      <th>FUELCONSUMPTION_COMB</th>\n",
       "      <th>FUELCONSUMPTION_COMB_MPG</th>\n",
       "      <th>CO2EMISSIONS</th>\n",
       "    </tr>\n",
       "  </thead>\n",
       "  <tbody>\n",
       "    <tr>\n",
       "      <th>988</th>\n",
       "      <td>2014</td>\n",
       "      <td>TOYOTA</td>\n",
       "      <td>PRIUS c</td>\n",
       "      <td>COMPACT</td>\n",
       "      <td>1.5</td>\n",
       "      <td>4</td>\n",
       "      <td>AV</td>\n",
       "      <td>X</td>\n",
       "      <td>4.6</td>\n",
       "      <td>4.9</td>\n",
       "      <td>4.7</td>\n",
       "      <td>60</td>\n",
       "      <td>108</td>\n",
       "    </tr>\n",
       "    <tr>\n",
       "      <th>487</th>\n",
       "      <td>2014</td>\n",
       "      <td>HONDA</td>\n",
       "      <td>ACCORD HYBRID</td>\n",
       "      <td>MID-SIZE</td>\n",
       "      <td>2.0</td>\n",
       "      <td>4</td>\n",
       "      <td>AV</td>\n",
       "      <td>X</td>\n",
       "      <td>4.7</td>\n",
       "      <td>4.9</td>\n",
       "      <td>4.8</td>\n",
       "      <td>59</td>\n",
       "      <td>110</td>\n",
       "    </tr>\n",
       "    <tr>\n",
       "      <th>987</th>\n",
       "      <td>2014</td>\n",
       "      <td>TOYOTA</td>\n",
       "      <td>PRIUS</td>\n",
       "      <td>MID-SIZE</td>\n",
       "      <td>1.8</td>\n",
       "      <td>4</td>\n",
       "      <td>AV</td>\n",
       "      <td>X</td>\n",
       "      <td>4.7</td>\n",
       "      <td>4.9</td>\n",
       "      <td>4.8</td>\n",
       "      <td>59</td>\n",
       "      <td>110</td>\n",
       "    </tr>\n",
       "    <tr>\n",
       "      <th>989</th>\n",
       "      <td>2014</td>\n",
       "      <td>TOYOTA</td>\n",
       "      <td>PRIUS v</td>\n",
       "      <td>STATION WAGON - MID-SIZE</td>\n",
       "      <td>1.8</td>\n",
       "      <td>4</td>\n",
       "      <td>AV</td>\n",
       "      <td>X</td>\n",
       "      <td>5.3</td>\n",
       "      <td>5.8</td>\n",
       "      <td>5.5</td>\n",
       "      <td>51</td>\n",
       "      <td>126</td>\n",
       "    </tr>\n",
       "    <tr>\n",
       "      <th>415</th>\n",
       "      <td>2014</td>\n",
       "      <td>FORD</td>\n",
       "      <td>FUSION HYBRID</td>\n",
       "      <td>MID-SIZE</td>\n",
       "      <td>2.0</td>\n",
       "      <td>4</td>\n",
       "      <td>AV</td>\n",
       "      <td>X</td>\n",
       "      <td>5.3</td>\n",
       "      <td>5.7</td>\n",
       "      <td>5.5</td>\n",
       "      <td>51</td>\n",
       "      <td>126</td>\n",
       "    </tr>\n",
       "    <tr>\n",
       "      <th>...</th>\n",
       "      <td>...</td>\n",
       "      <td>...</td>\n",
       "      <td>...</td>\n",
       "      <td>...</td>\n",
       "      <td>...</td>\n",
       "      <td>...</td>\n",
       "      <td>...</td>\n",
       "      <td>...</td>\n",
       "      <td>...</td>\n",
       "      <td>...</td>\n",
       "      <td>...</td>\n",
       "      <td>...</td>\n",
       "      <td>...</td>\n",
       "    </tr>\n",
       "    <tr>\n",
       "      <th>351</th>\n",
       "      <td>2014</td>\n",
       "      <td>FORD</td>\n",
       "      <td>E350 WAGON FFV</td>\n",
       "      <td>VAN - PASSENGER</td>\n",
       "      <td>5.4</td>\n",
       "      <td>8</td>\n",
       "      <td>A4</td>\n",
       "      <td>E</td>\n",
       "      <td>26.7</td>\n",
       "      <td>20.5</td>\n",
       "      <td>23.9</td>\n",
       "      <td>12</td>\n",
       "      <td>382</td>\n",
       "    </tr>\n",
       "    <tr>\n",
       "      <th>449</th>\n",
       "      <td>2014</td>\n",
       "      <td>GMC</td>\n",
       "      <td>SAVANA 2500 PASSENGER</td>\n",
       "      <td>VAN - PASSENGER</td>\n",
       "      <td>6.0</td>\n",
       "      <td>8</td>\n",
       "      <td>A6</td>\n",
       "      <td>E</td>\n",
       "      <td>30.0</td>\n",
       "      <td>20.4</td>\n",
       "      <td>25.7</td>\n",
       "      <td>11</td>\n",
       "      <td>411</td>\n",
       "    </tr>\n",
       "    <tr>\n",
       "      <th>225</th>\n",
       "      <td>2014</td>\n",
       "      <td>CHEVROLET</td>\n",
       "      <td>EXPRESS 2500 PASSENGER</td>\n",
       "      <td>VAN - PASSENGER</td>\n",
       "      <td>6.0</td>\n",
       "      <td>8</td>\n",
       "      <td>A6</td>\n",
       "      <td>E</td>\n",
       "      <td>30.0</td>\n",
       "      <td>20.4</td>\n",
       "      <td>25.7</td>\n",
       "      <td>11</td>\n",
       "      <td>411</td>\n",
       "    </tr>\n",
       "    <tr>\n",
       "      <th>228</th>\n",
       "      <td>2014</td>\n",
       "      <td>CHEVROLET</td>\n",
       "      <td>EXPRESS 3500 PASSENGER</td>\n",
       "      <td>VAN - PASSENGER</td>\n",
       "      <td>6.0</td>\n",
       "      <td>8</td>\n",
       "      <td>A6</td>\n",
       "      <td>E</td>\n",
       "      <td>30.2</td>\n",
       "      <td>20.5</td>\n",
       "      <td>25.8</td>\n",
       "      <td>11</td>\n",
       "      <td>413</td>\n",
       "    </tr>\n",
       "    <tr>\n",
       "      <th>452</th>\n",
       "      <td>2014</td>\n",
       "      <td>GMC</td>\n",
       "      <td>SAVANA 3500 PASSENGER</td>\n",
       "      <td>VAN - PASSENGER</td>\n",
       "      <td>6.0</td>\n",
       "      <td>8</td>\n",
       "      <td>A6</td>\n",
       "      <td>E</td>\n",
       "      <td>30.2</td>\n",
       "      <td>20.5</td>\n",
       "      <td>25.8</td>\n",
       "      <td>11</td>\n",
       "      <td>413</td>\n",
       "    </tr>\n",
       "  </tbody>\n",
       "</table>\n",
       "<p>1067 rows × 13 columns</p>\n",
       "</div>"
      ],
      "text/plain": [
       "     MODELYEAR       MAKE                   MODEL              VEHICLECLASS   \n",
       "988       2014     TOYOTA                 PRIUS c                   COMPACT  \\\n",
       "487       2014      HONDA           ACCORD HYBRID                  MID-SIZE   \n",
       "987       2014     TOYOTA                   PRIUS                  MID-SIZE   \n",
       "989       2014     TOYOTA                 PRIUS v  STATION WAGON - MID-SIZE   \n",
       "415       2014       FORD           FUSION HYBRID                  MID-SIZE   \n",
       "..         ...        ...                     ...                       ...   \n",
       "351       2014       FORD          E350 WAGON FFV           VAN - PASSENGER   \n",
       "449       2014        GMC   SAVANA 2500 PASSENGER           VAN - PASSENGER   \n",
       "225       2014  CHEVROLET  EXPRESS 2500 PASSENGER           VAN - PASSENGER   \n",
       "228       2014  CHEVROLET  EXPRESS 3500 PASSENGER           VAN - PASSENGER   \n",
       "452       2014        GMC   SAVANA 3500 PASSENGER           VAN - PASSENGER   \n",
       "\n",
       "     ENGINESIZE  CYLINDERS TRANSMISSION FUELTYPE  FUELCONSUMPTION_CITY   \n",
       "988         1.5          4           AV        X                   4.6  \\\n",
       "487         2.0          4           AV        X                   4.7   \n",
       "987         1.8          4           AV        X                   4.7   \n",
       "989         1.8          4           AV        X                   5.3   \n",
       "415         2.0          4           AV        X                   5.3   \n",
       "..          ...        ...          ...      ...                   ...   \n",
       "351         5.4          8           A4        E                  26.7   \n",
       "449         6.0          8           A6        E                  30.0   \n",
       "225         6.0          8           A6        E                  30.0   \n",
       "228         6.0          8           A6        E                  30.2   \n",
       "452         6.0          8           A6        E                  30.2   \n",
       "\n",
       "     FUELCONSUMPTION_HWY  FUELCONSUMPTION_COMB  FUELCONSUMPTION_COMB_MPG   \n",
       "988                  4.9                   4.7                        60  \\\n",
       "487                  4.9                   4.8                        59   \n",
       "987                  4.9                   4.8                        59   \n",
       "989                  5.8                   5.5                        51   \n",
       "415                  5.7                   5.5                        51   \n",
       "..                   ...                   ...                       ...   \n",
       "351                 20.5                  23.9                        12   \n",
       "449                 20.4                  25.7                        11   \n",
       "225                 20.4                  25.7                        11   \n",
       "228                 20.5                  25.8                        11   \n",
       "452                 20.5                  25.8                        11   \n",
       "\n",
       "     CO2EMISSIONS  \n",
       "988           108  \n",
       "487           110  \n",
       "987           110  \n",
       "989           126  \n",
       "415           126  \n",
       "..            ...  \n",
       "351           382  \n",
       "449           411  \n",
       "225           411  \n",
       "228           413  \n",
       "452           413  \n",
       "\n",
       "[1067 rows x 13 columns]"
      ]
     },
     "execution_count": 33,
     "metadata": {},
     "output_type": "execute_result"
    }
   ],
   "source": [
    "data.sort_values(\"FUELCONSUMPTION_CITY\")"
   ]
  },
  {
   "cell_type": "markdown",
   "id": "5ec77ba1",
   "metadata": {},
   "source": [
    "## Numpy"
   ]
  },
  {
   "cell_type": "code",
   "execution_count": 51,
   "id": "e76e38da",
   "metadata": {},
   "outputs": [],
   "source": [
    "arr = np.array([1, 2, 3, 4]) # criar um array com uma dimensao"
   ]
  },
  {
   "cell_type": "code",
   "execution_count": 53,
   "id": "b823d0f7",
   "metadata": {},
   "outputs": [
    {
     "data": {
      "text/plain": [
       "dtype('int64')"
      ]
     },
     "execution_count": 53,
     "metadata": {},
     "output_type": "execute_result"
    }
   ],
   "source": [
    "arr.dtype # tipo de dados"
   ]
  },
  {
   "cell_type": "code",
   "execution_count": 54,
   "id": "6a4d09dd",
   "metadata": {},
   "outputs": [
    {
     "data": {
      "text/plain": [
       "1"
      ]
     },
     "execution_count": 54,
     "metadata": {},
     "output_type": "execute_result"
    }
   ],
   "source": [
    "arr.ndim # numero de dimensoes"
   ]
  },
  {
   "cell_type": "code",
   "execution_count": 48,
   "id": "53ce52f3",
   "metadata": {},
   "outputs": [],
   "source": [
    "arr2d = np.array([[1, 2, 3], [4, 5, 6], [7, 8, 9]]) # criar um array com duas dimensoes"
   ]
  },
  {
   "cell_type": "code",
   "execution_count": 55,
   "id": "16304634",
   "metadata": {},
   "outputs": [
    {
     "data": {
      "text/plain": [
       "dtype('int64')"
      ]
     },
     "execution_count": 55,
     "metadata": {},
     "output_type": "execute_result"
    }
   ],
   "source": [
    "arr2d.dtype # tipo de dados"
   ]
  },
  {
   "cell_type": "code",
   "execution_count": 56,
   "id": "e41c18d9",
   "metadata": {},
   "outputs": [
    {
     "data": {
      "text/plain": [
       "2"
      ]
     },
     "execution_count": 56,
     "metadata": {},
     "output_type": "execute_result"
    }
   ],
   "source": [
    "arr2d.ndim # numero de dimensoes"
   ]
  },
  {
   "cell_type": "code",
   "execution_count": 57,
   "id": "50932f0e",
   "metadata": {},
   "outputs": [
    {
     "data": {
      "text/plain": [
       "(4,)"
      ]
     },
     "execution_count": 57,
     "metadata": {},
     "output_type": "execute_result"
    }
   ],
   "source": [
    "arr.shape # formato"
   ]
  },
  {
   "cell_type": "code",
   "execution_count": 58,
   "id": "57147e81",
   "metadata": {},
   "outputs": [
    {
     "data": {
      "text/plain": [
       "(3, 3)"
      ]
     },
     "execution_count": 58,
     "metadata": {},
     "output_type": "execute_result"
    }
   ],
   "source": [
    "arr2d.shape # formato"
   ]
  },
  {
   "cell_type": "code",
   "execution_count": 65,
   "id": "6eb1060e",
   "metadata": {},
   "outputs": [
    {
     "data": {
      "text/plain": [
       "1"
      ]
     },
     "execution_count": 65,
     "metadata": {},
     "output_type": "execute_result"
    }
   ],
   "source": [
    "arr[0] # selecionar o 1 elemento"
   ]
  },
  {
   "cell_type": "code",
   "execution_count": 66,
   "id": "14a015c6",
   "metadata": {},
   "outputs": [
    {
     "data": {
      "text/plain": [
       "array([2, 3])"
      ]
     },
     "execution_count": 66,
     "metadata": {},
     "output_type": "execute_result"
    }
   ],
   "source": [
    "arr[1:3] # selecionar o 2 e o 3 elemento da lista"
   ]
  },
  {
   "cell_type": "code",
   "execution_count": 67,
   "id": "a278ea75",
   "metadata": {},
   "outputs": [],
   "source": [
    "arr[0] = 5 # alterando o elemento"
   ]
  },
  {
   "cell_type": "code",
   "execution_count": 76,
   "id": "c28fd661",
   "metadata": {},
   "outputs": [
    {
     "name": "stdout",
     "output_type": "stream",
     "text": [
      "[0.4248482  0.44354893 0.96531226 0.11389912]\n"
     ]
    }
   ],
   "source": [
    "arr2 = np.random.rand(4) # criar um array com valores aleatorios\n",
    "print(f\"{arr2}\")"
   ]
  },
  {
   "cell_type": "code",
   "execution_count": 81,
   "id": "5d6b3351",
   "metadata": {},
   "outputs": [
    {
     "name": "stdout",
     "output_type": "stream",
     "text": [
      "soma: [5.4248482  2.44354893 3.96531226 4.11389912]\n",
      "subtracao: [4.5751518  1.55645107 2.03468774 3.88610088]\n",
      "multiplicacao: [2.12424101 0.88709785 2.89593677 0.45559649]\n",
      "divisao: [11.76890943  4.50908544  3.10780266 35.11879587]\n"
     ]
    }
   ],
   "source": [
    "# operacoes aritimeticas\n",
    "soma = arr + arr2\n",
    "print(f\"soma: {soma}\")\n",
    "subtracao = arr - arr2\n",
    "print(f\"subtracao: {subtracao}\")\n",
    "multiplicacao = arr * arr2\n",
    "print(f\"multiplicacao: {multiplicacao}\")\n",
    "divisao = arr / arr2\n",
    "print(f\"divisao: {divisao}\")"
   ]
  },
  {
   "cell_type": "code",
   "execution_count": 87,
   "id": "fd7cc1e9",
   "metadata": {},
   "outputs": [
    {
     "name": "stdout",
     "output_type": "stream",
     "text": [
      "seno: [-0.95892427  0.90929743  0.14112001 -0.7568025 ]\n",
      "cosseno: [ 0.28366219 -0.41614684 -0.9899925  -0.65364362]\n",
      "Exponenciação: [148.4131591    7.3890561   20.08553692  54.59815003]\n"
     ]
    }
   ],
   "source": [
    "# funoes matematicas\n",
    "seno = np.sin(arr)\n",
    "print(f\"seno: {seno}\")\n",
    "cosseno = np.cos(arr)\n",
    "print(f\"cosseno: {cosseno}\")\n",
    "exp = np.exp(arr)\n",
    "print(f\"Exponenciação: {exp}\")"
   ]
  }
 ],
 "metadata": {
  "kernelspec": {
   "display_name": "venv",
   "language": "python",
   "name": "venv"
  },
  "language_info": {
   "codemirror_mode": {
    "name": "ipython",
    "version": 3
   },
   "file_extension": ".py",
   "mimetype": "text/x-python",
   "name": "python",
   "nbconvert_exporter": "python",
   "pygments_lexer": "ipython3",
   "version": "3.10.10"
  }
 },
 "nbformat": 4,
 "nbformat_minor": 5
}
